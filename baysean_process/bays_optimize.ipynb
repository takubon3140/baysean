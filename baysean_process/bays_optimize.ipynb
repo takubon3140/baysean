{
 "cells": [
  {
   "cell_type": "code",
   "execution_count": 49,
   "metadata": {},
   "outputs": [],
   "source": [
    "from itertools import product\n",
    "#from sklearn.gaussian_process import GaussianProcess\n",
    "from sklearn.gaussian_process import GaussianProcessRegressor\n",
    "from sklearn.gaussian_process.kernels import ConstantKernel, WhiteKernel\n",
    "from sklearn.gaussian_process.kernels import ConstantKernel as C\n",
    "from sklearn.gaussian_process.kernels import Matern, RBF\n",
    "from sklearn.gaussian_process import kernels as sk_kern\n",
    "\n",
    "import GPy.kern as gp_kern\n",
    "import GPy\n",
    "\n",
    "class BayesianOptimizer:\n",
    "    x_list = None\n",
    "    y_list = None\n",
    "    yielding_index = None\n",
    "    k_band = 5\n",
    "    verbose = False\n",
    "\n",
    "    def __init__(self, params):\n",
    "        self.params = params\n",
    "        self.keys = []\n",
    "        self.values = []\n",
    "        for k, v in sorted(self.params.items()):\n",
    "            self.keys.append(k)\n",
    "            self.values.append(v)\n",
    "\n",
    "    @property\n",
    "    def n_pattern(self):\n",
    "        return len(list(product(*self.values)))\n",
    "\n",
    "    def output(self, *args, **kwargs):\n",
    "        if self.verbose:\n",
    "            print(*args, **kwargs)\n",
    "    \n",
    "    def supply_next_param(self, max_iter=None):\n",
    "        self.x_list = []\n",
    "        self.y_list = []\n",
    "        all_parameters = list(product(*self.values))  # [(0.01, [0, 0], 0, [10, 10]), (0.01, [0, 0], 0, [15, 15]), ...\n",
    "        print(all_parameters)\n",
    "        index_space = [list(range(len(v))) for v in self.values]  # [[0], [0, 1, 2], [0], [0, 1, 2]]\n",
    "        all_index_list = list(product(*index_space))  # [(0, 0, 0, 0), (0, 0, 0, 1), ...\n",
    "        #print(self.x_list, self.y_list, all_parameters, all_index_list)\n",
    "\n",
    "        # examine 2 random points initially\n",
    "        idx = list(range(len(all_index_list)))\n",
    "        np.random.shuffle(idx)\n",
    "        searched_index_list = []\n",
    "        for index in idx[:2]:\n",
    "            param = self.to_param(all_parameters[index])\n",
    "            self.yielding_index = all_index_list[index]\n",
    "            searched_index_list.append(index)\n",
    "            yield param\n",
    "\n",
    "        # Bayesian Optimization\n",
    "        max_iter = int(min(max_iter or max(np.sqrt(self.n_pattern)*4, 20), self.n_pattern))  # 最大探索回数を適当に計算。\n",
    "        for iteration in range(max_iter):\n",
    "            k = 1 - np.exp(-iteration / max_iter * 3) * self.k_band  # kの値を徐々に減らして 探索重視 → 活用重視 にしてみる\n",
    "            gp = self.create_gp_and_fit(np.array(self.x_list), np.array(self.y_list))\n",
    "\n",
    "            mean_array, mse_array = gp.predict(all_index_list, return_std=True)\n",
    "            next_index, acq_array = self.acquisition(mean_array, mse_array, k, excludes=searched_index_list)\n",
    "            \n",
    "            #print(mean_array, mse_array)\n",
    "            #print(k)\n",
    "          \n",
    "            self.output(\"--- Most Expected Predictions\")\n",
    "            for acq, ps in sorted(zip(acq_array, all_parameters), reverse=True)[:3]:\n",
    "                self.output(\"%.2f: %s\" % (acq, list(zip(self.keys, ps))))\n",
    "            self.output(\"--- Past Best Results\")\n",
    "            for acq, vs, ps in self.best_results(3):\n",
    "                self.output(\"%.2f: %s\" % (acq, list(zip(self.keys, vs))))\n",
    "\n",
    "            if next_index in searched_index_list:\n",
    "                break\n",
    "            searched_index_list.append(next_index)\n",
    "            self.yielding_index = all_index_list[next_index]\n",
    "            yield self.to_param(all_parameters[next_index])\n",
    "\n",
    "    @staticmethod\n",
    "    def create_gp_and_fit(x, y, max_try=100):\n",
    "        # この辺怪しい\n",
    "        theta0 = 0.1\n",
    "        for i in range(max_try+1):\n",
    "            try:\n",
    "                # gp = GaussianProcess(theta0=0.1, thetaL=.001, thetaU=theta_u)\n",
    "                #kernel = ConstantKernel() * RBF() + WhiteKernel()\n",
    "                #kernel = sk_kern.RBF(length_scale=.5)\n",
    "                #kernel = sk_kern.ExpSineSquared() * sk_kern.RBF()\n",
    "                #kernel = sk_kern.ConstantKernel()\n",
    "                #kernel = sk_kern.WhiteKernel(noise_level=3.)\n",
    "                #kernel = GPy.kern.PeriodicExponential(lengthscale=.1, variance=3) * GPy.kern.Matern32(1)\n",
    "                #kernel = GPy.kern.RatQuad(1, lengthscale=.5, variance=.3)\n",
    "                #kernel = GPy.kern.White(input_dim=1)\n",
    "                #kernel = C(10.0, (1e-8, 1e5)) * RBF([5,5], (1e-2, 1e2))\n",
    "                #kernel=RBF()\n",
    "                #kernel=GPy.kern.Matern52(2)\n",
    "                #gp = GaussianProcessRegressor(kernel=kernel, alpha=0.1, normalize_y=True, n_restarts_optimizer=3)\n",
    "                #gp = GaussianProcessRegressor(alpha=0.001, normalize_y=True)\n",
    "                gp = GaussianProcessRegressor(normalize_y=True, n_restarts_optimizer=3)\n",
    "                gp.fit(x, y)\n",
    "                return gp\n",
    "            except Exception as e:\n",
    "                theta0 *= 10\n",
    "                if i == max_try:\n",
    "                    print(theta0)\n",
    "                    raise e\n",
    "            \n",
    "    def to_param(self, row):\n",
    "        return dict(zip(self.keys, row))\n",
    "\n",
    "    def report(self, score):\n",
    "        self.x_list.append(self.yielding_index)\n",
    "        self.y_list.append(score)\n",
    "\n",
    "    def best_results(self, n=5):\n",
    "        index_list = []\n",
    "        param_list = []\n",
    "        for xs in self.x_list:\n",
    "            values = [self.values[i][x] for i, x in enumerate(xs)]\n",
    "            index_list.append(values)\n",
    "            param_list.append(self.to_param(values))\n",
    "        return sorted(zip(self.y_list, index_list, param_list), reverse=True)[:n]\n",
    "\n",
    "    @staticmethod\n",
    "    def acquisition(mean_array, mse_array, k, excludes=None):\n",
    "        excludes = excludes or []\n",
    "        values = mean_array + np.sqrt(mse_array) * k\n",
    "        for_argmax = np.copy(values)\n",
    "        #print(excludes, values, for_argmax)\n",
    "        for ex in excludes:\n",
    "            for_argmax[ex] = -np.Inf\n",
    "        return np.argmax(for_argmax), values"
   ]
  },
  {
   "cell_type": "code",
   "execution_count": 50,
   "metadata": {},
   "outputs": [],
   "source": [
    "# for testing on jupyter notebook\n",
    "import os\n",
    "\n",
    "#PRJ_ROOT = '/home/jovyan/work'\n",
    "#os.chdir(\"%s/notebooks/sandbox/\" % PRJ_ROOT)\n",
    "\n",
    "import numpy as np\n",
    "import seaborn as sns\n",
    "import matplotlib.pyplot as plt\n",
    "\n",
    "%matplotlib inline\n",
    "\n",
    "sns.set_style('whitegrid')\n",
    "sns.set(font=['arial'])\n",
    "\n",
    "%reload_ext autoreload\n",
    "%autoreload 2"
   ]
  },
  {
   "cell_type": "code",
   "execution_count": 51,
   "metadata": {},
   "outputs": [],
   "source": [
    "z = np.linspace(0, 3.14)\n",
    "z1 = np.expand_dims(z, axis=0)\n",
    "z2 = np.expand_dims(z, axis=1)\n",
    "value_space = np.sin((z1-1.5)*4) * np.cos(z2-0.2) + np.sin(z1+0.1) * np.cos((z2-1.5)*5) * 0.8\n",
    "value_space *= 70\n",
    "value_space += np.random.normal(size=value_space.shape)*10\n",
    "\n",
    "def unknown_function(ps):\n",
    "    return value_space[ps[0], ps[1]]"
   ]
  },
  {
   "cell_type": "code",
   "execution_count": 52,
   "metadata": {
    "scrolled": true
   },
   "outputs": [
    {
     "name": "stdout",
     "output_type": "stream",
     "text": [
      "f(row=3, col=30) = 125.796\n"
     ]
    },
    {
     "data": {
      "image/png": "[encoded data removed]",
      "text/plain": [
       "<matplotlib.figure.Figure at 0x26ad0651048>"
      ]
     },
     "metadata": {},
     "output_type": "display_data"
    }
   ],
   "source": [
    "space_sizespace_s  = value_space.shape\n",
    "sns.heatmap(value_space, cmap='cubehelix', vmin=np.min(value_space)*1.5, vmax=np.max(value_space)*1.5)\n",
    "max_i, max_v = np.argmax(value_space), np.max(value_space)\n",
    "col, row = max_i % space_size[0], max_i // space_size[0]\n",
    "plt.plot(col, space_size[0] - row-1, 'ro')\n",
    "print(\"f(row=%d, col=%d) = %.3f\" % (row, col, max_v))"
   ]
  },
  {
   "cell_type": "code",
   "execution_count": 53,
   "metadata": {},
   "outputs": [],
   "source": [
    "def plot_heatmap(value_space, checked_points):\n",
    "    sns.heatmap(value_space, cmap='rainbow', vmin=np.min(value_space)*1.5, vmax=np.max(value_space)*1.5)\n",
    "    \n",
    "    cp = np.array(checked_points)\n",
    "    #rows = value_space.shape[0] - cp[:, 0] - 1\n",
    "    space_size = value_space.shape\n",
    "    rows = space_size[0]-(value_space.shape[0]-cp[:, 0])\n",
    "    cols = cp[:, 1]\n",
    "    plt.plot(cols, rows, 'ro', markersize=5)\n",
    "    plt.plot(cols[-1], rows[-1], 'o', markersize=10)\n"
   ]
  },
  {
   "cell_type": "code",
   "execution_count": 54,
   "metadata": {},
   "outputs": [
    {
     "name": "stdout",
     "output_type": "stream",
     "text": [
      "{'col': [0, 1, 2, 3, 4, 5, 6, 7, 8, 9, 10, 11, 12, 13, 14, 15, 16, 17, 18, 19, 20, 21, 22, 23, 24, 25, 26, 27, 28, 29, 30, 31, 32, 33, 34, 35, 36, 37, 38, 39, 40, 41, 42, 43, 44, 45, 46, 47, 48, 49], 'row': [0, 1, 2, 3, 4, 5, 6, 7, 8, 9, 10, 11, 12, 13, 14, 15, 16, 17, 18, 19, 20, 21, 22, 23, 24, 25, 26, 27, 28, 29, 30, 31, 32, 33, 34, 35, 36, 37, 38, 39, 40, 41, 42, 43, 44, 45, 46, 47, 48, 49]}\n"
     ]
    }
   ],
   "source": [
    "params = {\n",
    "    \"col\": list(range(50)),\n",
    "    \"row\": list(range(50)),\n",
    "}\n",
    "\n",
    "bo = BayesianOptimizer(params)\n",
    "print(bo.PA)\n",
    "checked_points = []\n",
    "\n",
    "# for i, param in enumerate(bo.supply_next_param()):  # param is dict\n",
    "#     x = [param['row'], param['col']]\n",
    "#     y = unknown_function(x)\n",
    "#     bo.report(y)\n",
    "    \n",
    "#     #print(x)\n",
    "    \n",
    "#     checked_points.append(x)\n",
    "    \n",
    "#     #print(next_index, acq_array)\n",
    "    \n",
    "#     if i % 5 == 0:\n",
    "#         plot_heatmap(value_space, checked_points)\n",
    "#         plt.show()"
   ]
  },
  {
   "cell_type": "code",
   "execution_count": 55,
   "metadata": {},
   "outputs": [
    {
     "name": "stdout",
     "output_type": "stream",
     "text": [
      "f(row=3, col=30) = 125.796\n"
     ]
    },
    {
     "ename": "TypeError",
     "evalue": "'NoneType' object is not iterable",
     "output_type": "error",
     "traceback": [
      "\u001b[1;31m---------------------------------------------------------------------------\u001b[0m",
      "\u001b[1;31mTypeError\u001b[0m                                 Traceback (most recent call last)",
      "\u001b[1;32m<ipython-input-55-e1b17b14ccd7>\u001b[0m in \u001b[0;36m<module>\u001b[1;34m()\u001b[0m\n\u001b[0;32m      7\u001b[0m \u001b[0mprint\u001b[0m\u001b[1;33m(\u001b[0m\u001b[1;34m\"f(row=%d, col=%d) = %.3f\"\u001b[0m \u001b[1;33m%\u001b[0m \u001b[1;33m(\u001b[0m\u001b[0mrow\u001b[0m\u001b[1;33m,\u001b[0m \u001b[0mcol\u001b[0m\u001b[1;33m,\u001b[0m \u001b[0mmax_v\u001b[0m\u001b[1;33m)\u001b[0m\u001b[1;33m)\u001b[0m\u001b[1;33m\u001b[0m\u001b[0m\n\u001b[0;32m      8\u001b[0m \u001b[1;33m\u001b[0m\u001b[0m\n\u001b[1;32m----> 9\u001b[1;33m \u001b[0mbo\u001b[0m\u001b[1;33m.\u001b[0m\u001b[0mbest_results\u001b[0m\u001b[1;33m(\u001b[0m\u001b[1;33m)\u001b[0m\u001b[1;33m\u001b[0m\u001b[0m\n\u001b[0m",
      "\u001b[1;32m<ipython-input-49-b5457e9c22ed>\u001b[0m in \u001b[0;36mbest_results\u001b[1;34m(self, n)\u001b[0m\n\u001b[0;32m    116\u001b[0m         \u001b[0mindex_list\u001b[0m \u001b[1;33m=\u001b[0m \u001b[1;33m[\u001b[0m\u001b[1;33m]\u001b[0m\u001b[1;33m\u001b[0m\u001b[0m\n\u001b[0;32m    117\u001b[0m         \u001b[0mparam_list\u001b[0m \u001b[1;33m=\u001b[0m \u001b[1;33m[\u001b[0m\u001b[1;33m]\u001b[0m\u001b[1;33m\u001b[0m\u001b[0m\n\u001b[1;32m--> 118\u001b[1;33m         \u001b[1;32mfor\u001b[0m \u001b[0mxs\u001b[0m \u001b[1;32min\u001b[0m \u001b[0mself\u001b[0m\u001b[1;33m.\u001b[0m\u001b[0mx_list\u001b[0m\u001b[1;33m:\u001b[0m\u001b[1;33m\u001b[0m\u001b[0m\n\u001b[0m\u001b[0;32m    119\u001b[0m             \u001b[0mvalues\u001b[0m \u001b[1;33m=\u001b[0m \u001b[1;33m[\u001b[0m\u001b[0mself\u001b[0m\u001b[1;33m.\u001b[0m\u001b[0mvalues\u001b[0m\u001b[1;33m[\u001b[0m\u001b[0mi\u001b[0m\u001b[1;33m]\u001b[0m\u001b[1;33m[\u001b[0m\u001b[0mx\u001b[0m\u001b[1;33m]\u001b[0m \u001b[1;32mfor\u001b[0m \u001b[0mi\u001b[0m\u001b[1;33m,\u001b[0m \u001b[0mx\u001b[0m \u001b[1;32min\u001b[0m \u001b[0menumerate\u001b[0m\u001b[1;33m(\u001b[0m\u001b[0mxs\u001b[0m\u001b[1;33m)\u001b[0m\u001b[1;33m]\u001b[0m\u001b[1;33m\u001b[0m\u001b[0m\n\u001b[0;32m    120\u001b[0m             \u001b[0mindex_list\u001b[0m\u001b[1;33m.\u001b[0m\u001b[0mappend\u001b[0m\u001b[1;33m(\u001b[0m\u001b[0mvalues\u001b[0m\u001b[1;33m)\u001b[0m\u001b[1;33m\u001b[0m\u001b[0m\n",
      "\u001b[1;31mTypeError\u001b[0m: 'NoneType' object is not iterable"
     ]
    },
    {
     "data": {
      "image/png": "[encoded data removed]",
      "text/plain": [
       "<matplotlib.figure.Figure at 0x26ad08072b0>"
      ]
     },
     "metadata": {},
     "output_type": "display_data"
    }
   ],
   "source": [
    "space_size = value_space.shape\n",
    "sns.heatmap(value_space, cmap='rainbow', vmin=np.min(value_space)*1.5, vmax=np.max(value_space)*1.5)\n",
    "max_i, max_v = np.argmax(value_space), np.max(value_space)\n",
    "col, row = max_i % space_size[0], max_i // space_size[0]\n",
    "#plt.plot(col, space_size[0] - row-1, 'ro')\n",
    "plt.plot(col, row, 'ro')\n",
    "print(\"f(row=%d, col=%d) = %.3f\" % (row, col, max_v))\n",
    "\n",
    "bo.best_results()"
   ]
  },
  {
   "cell_type": "code",
   "execution_count": null,
   "metadata": {},
   "outputs": [],
   "source": []
  },
  {
   "cell_type": "code",
   "execution_count": null,
   "metadata": {},
   "outputs": [],
   "source": []
  },
  {
   "cell_type": "code",
   "execution_count": null,
   "metadata": {},
   "outputs": [],
   "source": []
  },
  {
   "cell_type": "code",
   "execution_count": null,
   "metadata": {},
   "outputs": [],
   "source": []
  },
  {
   "cell_type": "code",
   "execution_count": null,
   "metadata": {},
   "outputs": [],
   "source": []
  }
 ],
 "metadata": {
  "kernelspec": {
   "display_name": "Python 3",
   "language": "python",
   "name": "python3"
  },
  "language_info": {
   "codemirror_mode": {
    "name": "ipython",
    "version": 3
   },
   "file_extension": ".py",
   "mimetype": "text/x-python",
   "name": "python",
   "nbconvert_exporter": "python",
   "pygments_lexer": "ipython3",
   "version": "3.5.4"
  }
 },
 "nbformat": 4,
 "nbformat_minor": 2
}
